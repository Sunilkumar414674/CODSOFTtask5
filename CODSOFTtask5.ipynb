{
  "nbformat": 4,
  "nbformat_minor": 0,
  "metadata": {
    "colab": {
      "provenance": [],
      "authorship_tag": "ABX9TyMErjlzdbYqVUCWJ06dwwHh",
      "include_colab_link": true
    },
    "kernelspec": {
      "name": "python3",
      "display_name": "Python 3"
    },
    "language_info": {
      "name": "python"
    }
  },
  "cells": [
    {
      "cell_type": "markdown",
      "metadata": {
        "id": "view-in-github",
        "colab_type": "text"
      },
      "source": [
        "<a href=\"https://colab.research.google.com/github/Sunilkumar414674/CODSOFTtask5/blob/main/CODSOFTtask5.ipynb\" target=\"_parent\"><img src=\"https://colab.research.google.com/assets/colab-badge.svg\" alt=\"Open In Colab\"/></a>"
      ]
    },
    {
      "cell_type": "code",
      "execution_count": null,
      "metadata": {
        "colab": {
          "base_uri": "https://localhost:8080/"
        },
        "id": "vSGGXdyK815K",
        "outputId": "c5c8d6a0-2a6c-4912-e91d-81f1967606a5"
      },
      "outputs": [
        {
          "output_type": "stream",
          "name": "stdout",
          "text": [
            "   Time        V1        V2        V3        V4        V5        V6        V7  \\\n",
            "0   0.0 -1.359807 -0.072781  2.536347  1.378155 -0.338321  0.462388  0.239599   \n",
            "1   0.0  1.191857  0.266151  0.166480  0.448154  0.060018 -0.082361 -0.078803   \n",
            "2   1.0 -1.358354 -1.340163  1.773209  0.379780 -0.503198  1.800499  0.791461   \n",
            "3   1.0 -0.966272 -0.185226  1.792993 -0.863291 -0.010309  1.247203  0.237609   \n",
            "4   2.0 -1.158233  0.877737  1.548718  0.403034 -0.407193  0.095921  0.592941   \n",
            "\n",
            "         V8        V9  ...       V21       V22       V23       V24       V25  \\\n",
            "0  0.098698  0.363787  ... -0.018307  0.277838 -0.110474  0.066928  0.128539   \n",
            "1  0.085102 -0.255425  ... -0.225775 -0.638672  0.101288 -0.339846  0.167170   \n",
            "2  0.247676 -1.514654  ...  0.247998  0.771679  0.909412 -0.689281 -0.327642   \n",
            "3  0.377436 -1.387024  ... -0.108300  0.005274 -0.190321 -1.175575  0.647376   \n",
            "4 -0.270533  0.817739  ... -0.009431  0.798278 -0.137458  0.141267 -0.206010   \n",
            "\n",
            "        V26       V27       V28  Amount  Class  \n",
            "0 -0.189115  0.133558 -0.021053  149.62      0  \n",
            "1  0.125895 -0.008983  0.014724    2.69      0  \n",
            "2 -0.139097 -0.055353 -0.059752  378.66      0  \n",
            "3 -0.221929  0.062723  0.061458  123.50      0  \n",
            "4  0.502292  0.219422  0.215153   69.99      0  \n",
            "\n",
            "[5 rows x 31 columns]\n"
          ]
        }
      ],
      "source": [
        "import pandas as pd\n",
        "\n",
        "from sklearn.metrics import classification_report, roc_auc_score, confusion_matrix\n",
        "\n",
        "# Step 1: Load transactions data\n",
        "credit_data= pd.read_csv('/content/codsofttask5.csv')\n",
        "\n",
        "# Inspect the data\n",
        "print(credit_data.head())\n",
        "\n",
        "\n",
        "\n"
      ]
    },
    {
      "cell_type": "code",
      "source": [
        "# to get rows and columns of Credit Card Fraud Detection data\n",
        "credit_data.shape"
      ],
      "metadata": {
        "colab": {
          "base_uri": "https://localhost:8080/"
        },
        "id": "TAY9R3zlJdxL",
        "outputId": "5c1ff96d-6f60-40da-ceb0-84e1b2b30200"
      },
      "execution_count": null,
      "outputs": [
        {
          "output_type": "execute_result",
          "data": {
            "text/plain": [
              "(284807, 31)"
            ]
          },
          "metadata": {},
          "execution_count": 48
        }
      ]
    },
    {
      "cell_type": "code",
      "source": [
        "# data preprocessing\n",
        "# for Checking the missing values in Credit Card Fraud Detection data\n",
        "print(credit_data.isnull().sum())\n",
        "\n"
      ],
      "metadata": {
        "colab": {
          "base_uri": "https://localhost:8080/"
        },
        "id": "BfJFd1pL9dX2",
        "outputId": "70080e0e-6d5f-49bf-f2df-b749c06315be"
      },
      "execution_count": null,
      "outputs": [
        {
          "output_type": "stream",
          "name": "stdout",
          "text": [
            "Time      0\n",
            "V1        0\n",
            "V2        0\n",
            "V3        0\n",
            "V4        0\n",
            "V5        0\n",
            "V6        0\n",
            "V7        0\n",
            "V8        0\n",
            "V9        0\n",
            "V10       0\n",
            "V11       0\n",
            "V12       0\n",
            "V13       0\n",
            "V14       0\n",
            "V15       0\n",
            "V16       0\n",
            "V17       0\n",
            "V18       0\n",
            "V19       0\n",
            "V20       0\n",
            "V21       0\n",
            "V22       0\n",
            "V23       0\n",
            "V24       0\n",
            "V25       0\n",
            "V26       0\n",
            "V27       0\n",
            "V28       0\n",
            "Amount    0\n",
            "Class     0\n",
            "dtype: int64\n"
          ]
        }
      ]
    },
    {
      "cell_type": "code",
      "source": [
        "# Normalizing  the data\n",
        "# as amount is in rupees, to normalize the data\n",
        "from sklearn.preprocessing import StandardScaler\n",
        "scaler = StandardScaler()\n",
        "credit_data['Amount'] = scaler.fit_transform(credit_data[['Amount']])"
      ],
      "metadata": {
        "id": "incmCita-Chl"
      },
      "execution_count": null,
      "outputs": []
    },
    {
      "cell_type": "code",
      "source": [
        "# Separate features and labels of data\n",
        "X = credit_data.drop(columns=['Class'])\n",
        "X\n",
        "y = credit_data['Class']\n",
        "y"
      ],
      "metadata": {
        "colab": {
          "base_uri": "https://localhost:8080/"
        },
        "id": "RBN8t36A-FTp",
        "outputId": "3bb83f92-4df7-4a5b-8fcd-abf8fdd16e71"
      },
      "execution_count": null,
      "outputs": [
        {
          "output_type": "execute_result",
          "data": {
            "text/plain": [
              "0         0\n",
              "1         0\n",
              "2         0\n",
              "3         0\n",
              "4         0\n",
              "         ..\n",
              "284802    0\n",
              "284803    0\n",
              "284804    0\n",
              "284805    0\n",
              "284806    0\n",
              "Name: Class, Length: 284807, dtype: int64"
            ]
          },
          "metadata": {},
          "execution_count": 53
        }
      ]
    },
    {
      "cell_type": "code",
      "source": [
        "# to  Handle class imbalance in data.we use SMOTE (Synthetic Minority Over-sampling Technique)\n",
        "#SMOTE is used for oversampling\n",
        "from imblearn.over_sampling import SMOTE\n",
        "smote = SMOTE()\n",
        "X_new, y_new = smote.fit_resample(X, y)"
      ],
      "metadata": {
        "id": "XKV9_khRAzmw"
      },
      "execution_count": null,
      "outputs": []
    },
    {
      "cell_type": "code",
      "source": [
        "# Split the  Credit Card Fraud Detection dataset\n",
        "from sklearn.model_selection import train_test_split\n",
        "\n",
        "credit_X_train,credit_X_test,credit_y_train,credit_y_test = train_test_split(X_new, y_new, test_size=0.3, random_state=42)\n",
        "\n"
      ],
      "metadata": {
        "id": "883Lv6ZU9gII"
      },
      "execution_count": null,
      "outputs": []
    },
    {
      "cell_type": "code",
      "source": [
        "# Logistic Regression\n",
        "# to Train a Logistic Regression classification algorithm\n",
        "from sklearn.linear_model import LogisticRegression\n",
        "log_reg = LogisticRegression()\n",
        "log_reg.fit(credit_X_train, credit_y_train)\n"
      ],
      "metadata": {
        "colab": {
          "base_uri": "https://localhost:8080/",
          "height": 75
        },
        "id": "dlLwnQJy9lcV",
        "outputId": "f3cbb0bd-d441-48c0-d3bd-9eb38179c9f1"
      },
      "execution_count": null,
      "outputs": [
        {
          "output_type": "execute_result",
          "data": {
            "text/plain": [
              "LogisticRegression()"
            ],
            "text/html": [
              "<style>#sk-container-id-4 {color: black;background-color: white;}#sk-container-id-4 pre{padding: 0;}#sk-container-id-4 div.sk-toggleable {background-color: white;}#sk-container-id-4 label.sk-toggleable__label {cursor: pointer;display: block;width: 100%;margin-bottom: 0;padding: 0.3em;box-sizing: border-box;text-align: center;}#sk-container-id-4 label.sk-toggleable__label-arrow:before {content: \"▸\";float: left;margin-right: 0.25em;color: #696969;}#sk-container-id-4 label.sk-toggleable__label-arrow:hover:before {color: black;}#sk-container-id-4 div.sk-estimator:hover label.sk-toggleable__label-arrow:before {color: black;}#sk-container-id-4 div.sk-toggleable__content {max-height: 0;max-width: 0;overflow: hidden;text-align: left;background-color: #f0f8ff;}#sk-container-id-4 div.sk-toggleable__content pre {margin: 0.2em;color: black;border-radius: 0.25em;background-color: #f0f8ff;}#sk-container-id-4 input.sk-toggleable__control:checked~div.sk-toggleable__content {max-height: 200px;max-width: 100%;overflow: auto;}#sk-container-id-4 input.sk-toggleable__control:checked~label.sk-toggleable__label-arrow:before {content: \"▾\";}#sk-container-id-4 div.sk-estimator input.sk-toggleable__control:checked~label.sk-toggleable__label {background-color: #d4ebff;}#sk-container-id-4 div.sk-label input.sk-toggleable__control:checked~label.sk-toggleable__label {background-color: #d4ebff;}#sk-container-id-4 input.sk-hidden--visually {border: 0;clip: rect(1px 1px 1px 1px);clip: rect(1px, 1px, 1px, 1px);height: 1px;margin: -1px;overflow: hidden;padding: 0;position: absolute;width: 1px;}#sk-container-id-4 div.sk-estimator {font-family: monospace;background-color: #f0f8ff;border: 1px dotted black;border-radius: 0.25em;box-sizing: border-box;margin-bottom: 0.5em;}#sk-container-id-4 div.sk-estimator:hover {background-color: #d4ebff;}#sk-container-id-4 div.sk-parallel-item::after {content: \"\";width: 100%;border-bottom: 1px solid gray;flex-grow: 1;}#sk-container-id-4 div.sk-label:hover label.sk-toggleable__label {background-color: #d4ebff;}#sk-container-id-4 div.sk-serial::before {content: \"\";position: absolute;border-left: 1px solid gray;box-sizing: border-box;top: 0;bottom: 0;left: 50%;z-index: 0;}#sk-container-id-4 div.sk-serial {display: flex;flex-direction: column;align-items: center;background-color: white;padding-right: 0.2em;padding-left: 0.2em;position: relative;}#sk-container-id-4 div.sk-item {position: relative;z-index: 1;}#sk-container-id-4 div.sk-parallel {display: flex;align-items: stretch;justify-content: center;background-color: white;position: relative;}#sk-container-id-4 div.sk-item::before, #sk-container-id-4 div.sk-parallel-item::before {content: \"\";position: absolute;border-left: 1px solid gray;box-sizing: border-box;top: 0;bottom: 0;left: 50%;z-index: -1;}#sk-container-id-4 div.sk-parallel-item {display: flex;flex-direction: column;z-index: 1;position: relative;background-color: white;}#sk-container-id-4 div.sk-parallel-item:first-child::after {align-self: flex-end;width: 50%;}#sk-container-id-4 div.sk-parallel-item:last-child::after {align-self: flex-start;width: 50%;}#sk-container-id-4 div.sk-parallel-item:only-child::after {width: 0;}#sk-container-id-4 div.sk-dashed-wrapped {border: 1px dashed gray;margin: 0 0.4em 0.5em 0.4em;box-sizing: border-box;padding-bottom: 0.4em;background-color: white;}#sk-container-id-4 div.sk-label label {font-family: monospace;font-weight: bold;display: inline-block;line-height: 1.2em;}#sk-container-id-4 div.sk-label-container {text-align: center;}#sk-container-id-4 div.sk-container {/* jupyter's `normalize.less` sets `[hidden] { display: none; }` but bootstrap.min.css set `[hidden] { display: none !important; }` so we also need the `!important` here to be able to override the default hidden behavior on the sphinx rendered scikit-learn.org. See: https://github.com/scikit-learn/scikit-learn/issues/21755 */display: inline-block !important;position: relative;}#sk-container-id-4 div.sk-text-repr-fallback {display: none;}</style><div id=\"sk-container-id-4\" class=\"sk-top-container\"><div class=\"sk-text-repr-fallback\"><pre>LogisticRegression()</pre><b>In a Jupyter environment, please rerun this cell to show the HTML representation or trust the notebook. <br />On GitHub, the HTML representation is unable to render, please try loading this page with nbviewer.org.</b></div><div class=\"sk-container\" hidden><div class=\"sk-item\"><div class=\"sk-estimator sk-toggleable\"><input class=\"sk-toggleable__control sk-hidden--visually\" id=\"sk-estimator-id-4\" type=\"checkbox\" checked><label for=\"sk-estimator-id-4\" class=\"sk-toggleable__label sk-toggleable__label-arrow\">LogisticRegression</label><div class=\"sk-toggleable__content\"><pre>LogisticRegression()</pre></div></div></div></div></div>"
            ]
          },
          "metadata": {},
          "execution_count": 58
        }
      ]
    },
    {
      "cell_type": "code",
      "source": [
        "# Logistic Regression Classification Report\n",
        "from sklearn.metrics import classification_report\n",
        "y_pred_log_reg = log_reg.predict(credit_X_test)\n",
        "print(\"Logistic Regression Classification Report:\")\n",
        "print(classification_report(credit_y_test, y_pred_log_reg))"
      ],
      "metadata": {
        "colab": {
          "base_uri": "https://localhost:8080/"
        },
        "id": "06iolmQhOC1O",
        "outputId": "4af99f33-f565-481f-d2a5-c30a8220fae8"
      },
      "execution_count": null,
      "outputs": [
        {
          "output_type": "stream",
          "name": "stdout",
          "text": [
            "Logistic Regression Classification Report:\n",
            "              precision    recall  f1-score   support\n",
            "\n",
            "           0       0.97      0.98      0.97     85149\n",
            "           1       0.98      0.96      0.97     85440\n",
            "\n",
            "    accuracy                           0.97    170589\n",
            "   macro avg       0.97      0.97      0.97    170589\n",
            "weighted avg       0.97      0.97      0.97    170589\n",
            "\n"
          ]
        }
      ]
    },
    {
      "cell_type": "markdown",
      "source": [
        "**1.Precision:**\n",
        "\n",
        "  Class 0 (non-fraudulent): 0.97 and\n",
        "  Class 1 (fraudulent): 0.98\n",
        "\n",
        " This indicates that 97% of the predicted non-fraudulent transactions are actually non-fraudulent, and 98% of the predicted fraudulent transactions are actually fraudulent.\n",
        "\n",
        "**2.Recall:**\n",
        "\n",
        "  Class 0: 0.98  and  Class 1: 0.96\n",
        "\n",
        "This means that the model correctly identifies 98% of actual non-fraudulent transactions and 96% of actual fraudulent transactions.\n",
        "\n",
        "**3.F1-Score:**\n",
        "\n",
        "  Class 0: 0.97 and Class 1: 0.97\n",
        "\n",
        "The F1-score is 0.97, indicating a well-balanced model.\n",
        "\n",
        "**4.Support:**\n",
        "\n",
        "  Class 0: 85149 and Class 1: 85440\n",
        " These values represent the number of occurrences of each class in the test dataset.\n",
        "\n",
        "**5.Accuracy: 0.97**\n",
        "   \n",
        "Overall, the model correctly classifies 97% of the transactions."
      ],
      "metadata": {
        "id": "dDPnVo9gQSnI"
      }
    },
    {
      "cell_type": "code",
      "source": [
        "#  to Calculate ROC-AUC of Credit Card Fraud Detection data\n",
        "from sklearn.metrics import roc_auc_score\n",
        "roc_auc_log_reg = roc_auc_score(credit_y_test, log_reg.predict_proba(credit_X_test)[:, 1])\n",
        "\n",
        "print(f\"ROC-AUC Score for Logistic Regression: {roc_auc_log_reg}\")"
      ],
      "metadata": {
        "colab": {
          "base_uri": "https://localhost:8080/"
        },
        "id": "vfgX4iVXOKVr",
        "outputId": "95428f03-6e66-4faa-e0ab-46b646ad4048"
      },
      "execution_count": null,
      "outputs": [
        {
          "output_type": "stream",
          "name": "stdout",
          "text": [
            "ROC-AUC Score for Logistic Regression: 0.9933501666944655\n"
          ]
        }
      ]
    },
    {
      "cell_type": "markdown",
      "source": [
        "The ROC-AUC score for the logistic regression model is 0.9933501666944655. This high ROC-AUC score indicates excellent performance of the model in distinguishing between fraudulent and non-fraudulent transactions.\n"
      ],
      "metadata": {
        "id": "KzGoKzYlSGgk"
      }
    },
    {
      "cell_type": "code",
      "source": [
        "# Confusion matrix of Credit Card Fraud Detection data\n",
        "import seaborn as sns\n",
        "import matplotlib.pyplot as plt\n",
        "from sklearn.metrics import confusion_matrix\n",
        "conf_matrix_log_reg = confusion_matrix(credit_y_test, y_pred_log_reg)\n",
        "conf_matrix_rf = confusion_matrix(credit_y_test, y_pred_rf)\n",
        "sns.heatmap(conf_matrix_log_reg, annot=True, fmt='d', cmap='Oranges', xticklabels=['non-fraudulent','fraudulent'], yticklabels=['fraudulent','non-fraudulent'])\n",
        "plt.xlabel('Actual')\n",
        "plt.ylabel('Predicted')\n",
        "plt.title('Confusion Matrix')\n",
        "plt.show()\n",
        "\n",
        "print(\"Confusion Matrix for Logistic Regression:\")\n",
        "print(conf_matrix_log_reg)\n"
      ],
      "metadata": {
        "colab": {
          "base_uri": "https://localhost:8080/",
          "height": 524
        },
        "id": "XBpJG-9oOT0b",
        "outputId": "c9bc183d-01da-41b9-e891-06bbe5717b9c"
      },
      "execution_count": null,
      "outputs": [
        {
          "output_type": "display_data",
          "data": {
            "text/plain": [
              "<Figure size 640x480 with 2 Axes>"
            ],
            "image/png": "[encoded data removed]"
          },
          "metadata": {}
        },
        {
          "output_type": "stream",
          "name": "stdout",
          "text": [
            "Confusion Matrix for Logistic Regression:\n",
            "[[83462  1687]\n",
            " [ 2999 82441]]\n"
          ]
        }
      ]
    },
    {
      "cell_type": "markdown",
      "source": [
        "**1.True Positives (TP)**: 82,441\n",
        "\n",
        "The number of correctly identified fraudulent transactions.\n",
        "\n",
        "**2.True Negatives (TN)**: 83,462\n",
        "\n",
        "The number of correctly identified non-fraudulent transactions.\n",
        "\n",
        "**3.False Positives (FP)**: 1,687\n",
        "\n",
        "The number of non-fraudulent transactions incorrectly classified as fraudulent.\n",
        "\n",
        "**4.False Negatives (FN)**: 2,999\n",
        "\n",
        "The number of fraudulent transactions incorrectly classified as non-fraudulent."
      ],
      "metadata": {
        "id": "4MD035_pT0FY"
      }
    },
    {
      "cell_type": "code",
      "source": [
        "# Random Forest\n",
        "# to Train a Random Forest classification algorithm Random Forest\n",
        "from sklearn.ensemble import RandomForestClassifier\n",
        "rf_clf = RandomForestClassifier()\n",
        "rf_clf.fit(credit_X_train,credit_y_train)\n",
        "\n"
      ],
      "metadata": {
        "colab": {
          "base_uri": "https://localhost:8080/",
          "height": 75
        },
        "id": "Oogawqe_9oEk",
        "outputId": "ebc31efa-4f40-4eb8-b14b-15b88b68e101"
      },
      "execution_count": null,
      "outputs": [
        {
          "output_type": "execute_result",
          "data": {
            "text/plain": [
              "RandomForestClassifier()"
            ],
            "text/html": [
              "<style>#sk-container-id-5 {color: black;background-color: white;}#sk-container-id-5 pre{padding: 0;}#sk-container-id-5 div.sk-toggleable {background-color: white;}#sk-container-id-5 label.sk-toggleable__label {cursor: pointer;display: block;width: 100%;margin-bottom: 0;padding: 0.3em;box-sizing: border-box;text-align: center;}#sk-container-id-5 label.sk-toggleable__label-arrow:before {content: \"▸\";float: left;margin-right: 0.25em;color: #696969;}#sk-container-id-5 label.sk-toggleable__label-arrow:hover:before {color: black;}#sk-container-id-5 div.sk-estimator:hover label.sk-toggleable__label-arrow:before {color: black;}#sk-container-id-5 div.sk-toggleable__content {max-height: 0;max-width: 0;overflow: hidden;text-align: left;background-color: #f0f8ff;}#sk-container-id-5 div.sk-toggleable__content pre {margin: 0.2em;color: black;border-radius: 0.25em;background-color: #f0f8ff;}#sk-container-id-5 input.sk-toggleable__control:checked~div.sk-toggleable__content {max-height: 200px;max-width: 100%;overflow: auto;}#sk-container-id-5 input.sk-toggleable__control:checked~label.sk-toggleable__label-arrow:before {content: \"▾\";}#sk-container-id-5 div.sk-estimator input.sk-toggleable__control:checked~label.sk-toggleable__label {background-color: #d4ebff;}#sk-container-id-5 div.sk-label input.sk-toggleable__control:checked~label.sk-toggleable__label {background-color: #d4ebff;}#sk-container-id-5 input.sk-hidden--visually {border: 0;clip: rect(1px 1px 1px 1px);clip: rect(1px, 1px, 1px, 1px);height: 1px;margin: -1px;overflow: hidden;padding: 0;position: absolute;width: 1px;}#sk-container-id-5 div.sk-estimator {font-family: monospace;background-color: #f0f8ff;border: 1px dotted black;border-radius: 0.25em;box-sizing: border-box;margin-bottom: 0.5em;}#sk-container-id-5 div.sk-estimator:hover {background-color: #d4ebff;}#sk-container-id-5 div.sk-parallel-item::after {content: \"\";width: 100%;border-bottom: 1px solid gray;flex-grow: 1;}#sk-container-id-5 div.sk-label:hover label.sk-toggleable__label {background-color: #d4ebff;}#sk-container-id-5 div.sk-serial::before {content: \"\";position: absolute;border-left: 1px solid gray;box-sizing: border-box;top: 0;bottom: 0;left: 50%;z-index: 0;}#sk-container-id-5 div.sk-serial {display: flex;flex-direction: column;align-items: center;background-color: white;padding-right: 0.2em;padding-left: 0.2em;position: relative;}#sk-container-id-5 div.sk-item {position: relative;z-index: 1;}#sk-container-id-5 div.sk-parallel {display: flex;align-items: stretch;justify-content: center;background-color: white;position: relative;}#sk-container-id-5 div.sk-item::before, #sk-container-id-5 div.sk-parallel-item::before {content: \"\";position: absolute;border-left: 1px solid gray;box-sizing: border-box;top: 0;bottom: 0;left: 50%;z-index: -1;}#sk-container-id-5 div.sk-parallel-item {display: flex;flex-direction: column;z-index: 1;position: relative;background-color: white;}#sk-container-id-5 div.sk-parallel-item:first-child::after {align-self: flex-end;width: 50%;}#sk-container-id-5 div.sk-parallel-item:last-child::after {align-self: flex-start;width: 50%;}#sk-container-id-5 div.sk-parallel-item:only-child::after {width: 0;}#sk-container-id-5 div.sk-dashed-wrapped {border: 1px dashed gray;margin: 0 0.4em 0.5em 0.4em;box-sizing: border-box;padding-bottom: 0.4em;background-color: white;}#sk-container-id-5 div.sk-label label {font-family: monospace;font-weight: bold;display: inline-block;line-height: 1.2em;}#sk-container-id-5 div.sk-label-container {text-align: center;}#sk-container-id-5 div.sk-container {/* jupyter's `normalize.less` sets `[hidden] { display: none; }` but bootstrap.min.css set `[hidden] { display: none !important; }` so we also need the `!important` here to be able to override the default hidden behavior on the sphinx rendered scikit-learn.org. See: https://github.com/scikit-learn/scikit-learn/issues/21755 */display: inline-block !important;position: relative;}#sk-container-id-5 div.sk-text-repr-fallback {display: none;}</style><div id=\"sk-container-id-5\" class=\"sk-top-container\"><div class=\"sk-text-repr-fallback\"><pre>RandomForestClassifier()</pre><b>In a Jupyter environment, please rerun this cell to show the HTML representation or trust the notebook. <br />On GitHub, the HTML representation is unable to render, please try loading this page with nbviewer.org.</b></div><div class=\"sk-container\" hidden><div class=\"sk-item\"><div class=\"sk-estimator sk-toggleable\"><input class=\"sk-toggleable__control sk-hidden--visually\" id=\"sk-estimator-id-5\" type=\"checkbox\" checked><label for=\"sk-estimator-id-5\" class=\"sk-toggleable__label sk-toggleable__label-arrow\">RandomForestClassifier</label><div class=\"sk-toggleable__content\"><pre>RandomForestClassifier()</pre></div></div></div></div></div>"
            ]
          },
          "metadata": {},
          "execution_count": 66
        }
      ]
    },
    {
      "cell_type": "code",
      "source": [
        "# Random Forest Classification Report\n",
        "from sklearn.metrics import classification_report\n",
        "y_pred_rf = rf_clf.predict(credit_X_test)\n",
        "print(\"Random Forest Classification Report:\")\n",
        "print(classification_report(credit_y_test, y_pred_rf))\n",
        "\n"
      ],
      "metadata": {
        "colab": {
          "base_uri": "https://localhost:8080/"
        },
        "id": "vPVfk4Is9u0a",
        "outputId": "4151a6d8-107c-46c2-b73c-0f7882668322"
      },
      "execution_count": null,
      "outputs": [
        {
          "output_type": "stream",
          "name": "stdout",
          "text": [
            "Random Forest Classification Report:\n",
            "              precision    recall  f1-score   support\n",
            "\n",
            "           0       1.00      1.00      1.00     85149\n",
            "           1       1.00      1.00      1.00     85440\n",
            "\n",
            "    accuracy                           1.00    170589\n",
            "   macro avg       1.00      1.00      1.00    170589\n",
            "weighted avg       1.00      1.00      1.00    170589\n",
            "\n"
          ]
        }
      ]
    },
    {
      "cell_type": "markdown",
      "source": [
        "**1.Precision:**\n",
        "\n",
        "  Class 0 (non-fraudulent): 1.00 and Class 1 (fraudulent): 1.00\n",
        "\n",
        "This indicates that 100% of the predicted non-fraudulent and fraudulent transactions are correct.\n",
        "\n",
        "**2.Recall:**\n",
        "\n",
        "Class 0: 1.00 and Class 1: 1.00\n",
        "\n",
        " This means that the model correctly identifies 100% of actual non-fraudulent and fraudulent transactions.\n",
        "\n",
        "**3.F1-Score:**\n",
        "\n",
        " Class 0: 1.00 and Class 1: 1.00\n",
        "\n",
        "The F1-score is perfect for both classes, indicating no trade-off between precision and recall.\n",
        "\n",
        "**4.Support:**\n",
        "\n",
        "Class 0: 85149 and Class 1: 85440\n",
        "\n",
        "These values represent the number of occurrences of each class in the test dataset.\n",
        "\n",
        "**5.Accuracy: 1.00**\n",
        "\n",
        "The model correctly classifies 100% of the transactions."
      ],
      "metadata": {
        "id": "uiUujZ06YIFw"
      }
    },
    {
      "cell_type": "code",
      "source": [
        "# to Calculate ROC-AUC of Credit Card Fraud Detection data\n",
        "from sklearn.metrics import roc_auc_score\n",
        "roc_auc_rf = roc_auc_score(credit_y_test, rf_clf.predict_proba(credit_X_test)[:, 1])\n",
        "\n",
        "print(f\"ROC-AUC Score for Random Forest: {roc_auc_rf}\")\n",
        "\n"
      ],
      "metadata": {
        "colab": {
          "base_uri": "https://localhost:8080/"
        },
        "id": "FoTgoHxg9xNu",
        "outputId": "f31210bc-1f68-48c5-ab98-562943cc61ab"
      },
      "execution_count": null,
      "outputs": [
        {
          "output_type": "stream",
          "name": "stdout",
          "text": [
            "ROC-AUC Score for Random Forest: 0.9999920368439408\n"
          ]
        }
      ]
    },
    {
      "cell_type": "markdown",
      "source": [
        "The ROC-AUC score for the Random Forest model is 0.9999920368439408. This near-perfect ROC-AUC score indicates that the model is extremely effective at distinguishing between fraudulent and non-fraudulent transactions."
      ],
      "metadata": {
        "id": "jDhbTNY4ZHea"
      }
    },
    {
      "cell_type": "code",
      "source": [
        "# Confusion matrix Credit Card Fraud Detection data\n",
        "from sklearn.metrics import confusion_matrix\n",
        "conf_matrix_log_reg = confusion_matrix(credit_y_test, y_pred_log_reg)\n",
        "conf_matrix_rf = confusion_matrix(credit_y_test, y_pred_rf)\n",
        "sns.heatmap(conf_matrix_log_reg, annot=True, fmt='d', cmap='Greens', xticklabels=['non-fraudulent','fraudulent'], yticklabels=['fraudulent','non-fraudulent'])\n",
        "plt.xlabel('Actual')\n",
        "plt.ylabel('Predicted')\n",
        "plt.title('Confusion Matrix')\n",
        "plt.show()\n",
        "print(\"Confusion Matrix for Random Forest:\")\n",
        "print(conf_matrix_rf)"
      ],
      "metadata": {
        "colab": {
          "base_uri": "https://localhost:8080/",
          "height": 524
        },
        "id": "htd39sEG9y51",
        "outputId": "c529a545-62be-4ebd-897e-dec938bd99a6"
      },
      "execution_count": null,
      "outputs": [
        {
          "output_type": "display_data",
          "data": {
            "text/plain": [
              "<Figure size 640x480 with 2 Axes>"
            ],
            "image/png": "[encoded data removed]"
          },
          "metadata": {}
        },
        {
          "output_type": "stream",
          "name": "stdout",
          "text": [
            "Confusion Matrix for Random Forest:\n",
            "[[85132    17]\n",
            " [    0 85440]]\n"
          ]
        }
      ]
    },
    {
      "cell_type": "markdown",
      "source": [
        "**1.True Positives (TP):** 85,440\n",
        "\n",
        " The number of correctly identified fraudulent transactions.\n",
        "\n",
        "**2.True Negatives (TN):** 85,132\n",
        "\n",
        "The number of correctly identified non-fraudulent transactions.\n",
        "\n",
        "**3.False Positives (FP):** 17\n",
        "\n",
        "The number of non-fraudulent transactions incorrectly classified as fraudulent.\n",
        "\n",
        "**4.False Negatives (FN):** 0\n",
        "\n",
        "The number of fraudulent transactions incorrectly classified as non-fraudulent."
      ],
      "metadata": {
        "id": "sObVH6c6ZerD"
      }
    }
  ]
}